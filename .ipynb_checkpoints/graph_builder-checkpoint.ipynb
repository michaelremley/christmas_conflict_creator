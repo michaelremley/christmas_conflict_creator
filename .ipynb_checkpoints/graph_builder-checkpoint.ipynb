{
 "cells": [
  {
   "cell_type": "markdown",
   "metadata": {},
   "source": [
    "# Convert CSV to a graph"
   ]
  },
  {
   "cell_type": "code",
   "execution_count": 19,
   "metadata": {},
   "outputs": [],
   "source": [
    "import networkx as nx\n",
    "import pandas as pd"
   ]
  },
  {
   "cell_type": "code",
   "execution_count": 20,
   "metadata": {},
   "outputs": [],
   "source": [
    "def import_csv(filename):\n",
    "    return pd.read_csv(filename)"
   ]
  },
  {
   "cell_type": "code",
   "execution_count": 23,
   "metadata": {},
   "outputs": [],
   "source": [
    "def preprocessing(filename):\n",
    "    data = import_csv(filename)\n",
    "    del data['Timestamp'] #delete timestamp column\n",
    "    data = data.set_index('Name') # set names column to row labels\n",
    "    data.index.names = [None] \n",
    "    return data"
   ]
  },
  {
   "cell_type": "code",
   "execution_count": 25,
   "metadata": {},
   "outputs": [
    {
     "data": {
      "text/html": [
       "<div>\n",
       "<style scoped>\n",
       "    .dataframe tbody tr th:only-of-type {\n",
       "        vertical-align: middle;\n",
       "    }\n",
       "\n",
       "    .dataframe tbody tr th {\n",
       "        vertical-align: top;\n",
       "    }\n",
       "\n",
       "    .dataframe thead th {\n",
       "        text-align: right;\n",
       "    }\n",
       "</style>\n",
       "<table border=\"1\" class=\"dataframe\">\n",
       "  <thead>\n",
       "    <tr style=\"text-align: right;\">\n",
       "      <th></th>\n",
       "      <th>Is a hot dog a sandwich?</th>\n",
       "      <th>Is a Klein bottle with filling a ravioli?</th>\n",
       "      <th>Is it possible for one person to produce both a ghost and a zombie when they die?</th>\n",
       "      <th>Is spam good?</th>\n",
       "      <th>Should pineapple go on pizza?</th>\n",
       "    </tr>\n",
       "  </thead>\n",
       "  <tbody>\n",
       "    <tr>\n",
       "      <th>Ghost</th>\n",
       "      <td>No</td>\n",
       "      <td>No</td>\n",
       "      <td>No</td>\n",
       "      <td>Yes</td>\n",
       "      <td>Yes</td>\n",
       "    </tr>\n",
       "    <tr>\n",
       "      <th>Zombie</th>\n",
       "      <td>Yes</td>\n",
       "      <td>No</td>\n",
       "      <td>Yes</td>\n",
       "      <td>Yes</td>\n",
       "      <td>No</td>\n",
       "    </tr>\n",
       "    <tr>\n",
       "      <th>Turkey</th>\n",
       "      <td>No</td>\n",
       "      <td>No</td>\n",
       "      <td>Yes</td>\n",
       "      <td>Yes</td>\n",
       "      <td>Yes</td>\n",
       "    </tr>\n",
       "  </tbody>\n",
       "</table>\n",
       "</div>"
      ],
      "text/plain": [
       "       Is a hot dog a sandwich? Is a Klein bottle with filling a ravioli?  \\\n",
       "Ghost                        No                                        No   \n",
       "Zombie                      Yes                                        No   \n",
       "Turkey                       No                                        No   \n",
       "\n",
       "       Is it possible for one person to produce both a ghost and a zombie when they die?  \\\n",
       "Ghost                                                  No                                  \n",
       "Zombie                                                Yes                                  \n",
       "Turkey                                                Yes                                  \n",
       "\n",
       "       Is spam good? Should pineapple go on pizza?  \n",
       "Ghost            Yes                           Yes  \n",
       "Zombie           Yes                            No  \n",
       "Turkey           Yes                           Yes  "
      ]
     },
     "execution_count": 25,
     "metadata": {},
     "output_type": "execute_result"
    }
   ],
   "source": [
    "data = preprocessing(\"Survey.csv\")\n",
    "data.head(3)"
   ]
  },
  {
   "cell_type": "code",
   "execution_count": 26,
   "metadata": {},
   "outputs": [
    {
     "data": {
      "text/plain": [
       "6"
      ]
     },
     "execution_count": 26,
     "metadata": {},
     "output_type": "execute_result"
    }
   ],
   "source": [
    "num_rows = data.shape[0] \n",
    "num_cols = data.shape[1] \n",
    "num_rows"
   ]
  },
  {
   "cell_type": "code",
   "execution_count": 14,
   "metadata": {},
   "outputs": [
    {
     "name": "stdout",
     "output_type": "stream",
     "text": [
      "['Ghost', 'Zombie', 'Turkey', 'Santa Claus', 'Cat', 'Cactus']\n"
     ]
    }
   ],
   "source": [
    "G = nx.Graph()\n",
    "row_names = []\n",
    "for (name, b) in data.iterrows(): \n",
    "    row_names.append(name)\n",
    "    G.add_node(name)\n",
    "print(G.nodes)"
   ]
  },
  {
   "cell_type": "code",
   "execution_count": 6,
   "metadata": {},
   "outputs": [
    {
     "data": {
      "text/plain": [
       "['Ghost', 'Zombie', 'Turkey', 'Santa Claus', 'Cat', 'Cactus']"
      ]
     },
     "execution_count": 6,
     "metadata": {},
     "output_type": "execute_result"
    }
   ],
   "source": [
    "row_names"
   ]
  },
  {
   "cell_type": "code",
   "execution_count": 15,
   "metadata": {},
   "outputs": [
    {
     "name": "stdout",
     "output_type": "stream",
     "text": [
      "Ghost           No\n",
      "Zombie         Yes\n",
      "Turkey          No\n",
      "Santa Claus    Yes\n",
      "Cat            Yes\n",
      "Cactus          No\n",
      "Name: Is a hot dog a sandwich?, dtype: object\n",
      "Ghost           No\n",
      "Zombie          No\n",
      "Turkey          No\n",
      "Santa Claus     No\n",
      "Cat            Yes\n",
      "Cactus         Yes\n",
      "Name: Is a Klein bottle with filling a ravioli?, dtype: object\n",
      "Ghost           No\n",
      "Zombie         Yes\n",
      "Turkey         Yes\n",
      "Santa Claus     No\n",
      "Cat            Yes\n",
      "Cactus         Yes\n",
      "Name: Is it possible for one person to produce both a ghost and a zombie when they die?, dtype: object\n",
      "Ghost          Yes\n",
      "Zombie         Yes\n",
      "Turkey         Yes\n",
      "Santa Claus     No\n",
      "Cat            Yes\n",
      "Cactus          No\n",
      "Name: Is spam good?, dtype: object\n",
      "Ghost          Yes\n",
      "Zombie          No\n",
      "Turkey         Yes\n",
      "Santa Claus    Yes\n",
      "Cat            Yes\n",
      "Cactus          No\n",
      "Name: Should pineapple go on pizza?, dtype: object\n",
      "[('Ghost', 'Turkey'), ('Ghost', 'Cactus'), ('Ghost', 'Zombie'), ('Ghost', 'Santa Claus'), ('Ghost', 'Cat'), ('Zombie', 'Santa Claus'), ('Zombie', 'Cat'), ('Zombie', 'Turkey'), ('Zombie', 'Cactus'), ('Turkey', 'Cactus'), ('Turkey', 'Santa Claus'), ('Turkey', 'Cat'), ('Santa Claus', 'Cat'), ('Santa Claus', 'Cactus'), ('Cat', 'Cactus')]\n"
     ]
    }
   ],
   "source": [
    "for question, answers in data.iteritems(): \n",
    "    print(answers)\n",
    "    for curr_name in row_names:\n",
    "        for compare_name in row_names:\n",
    "            if answers[curr_name] == answers[compare_name] and curr_name != compare_name:\n",
    "                G.add_edge(curr_name, compare_name)     "
   ]
  },
  {
   "cell_type": "code",
   "execution_count": 16,
   "metadata": {},
   "outputs": [
    {
     "name": "stdout",
     "output_type": "stream",
     "text": [
      "[('Ghost', 'Turkey'), ('Ghost', 'Cactus'), ('Ghost', 'Zombie'), ('Ghost', 'Santa Claus'), ('Ghost', 'Cat'), ('Zombie', 'Santa Claus'), ('Zombie', 'Cat'), ('Zombie', 'Turkey'), ('Zombie', 'Cactus'), ('Turkey', 'Cactus'), ('Turkey', 'Santa Claus'), ('Turkey', 'Cat'), ('Santa Claus', 'Cat'), ('Santa Claus', 'Cactus'), ('Cat', 'Cactus')]\n"
     ]
    }
   ],
   "source": [
    "print(G.edges)"
   ]
  }
 ],
 "metadata": {
  "kernelspec": {
   "display_name": "Python 3",
   "language": "python",
   "name": "python3"
  },
  "language_info": {
   "codemirror_mode": {
    "name": "ipython",
    "version": 3
   },
   "file_extension": ".py",
   "mimetype": "text/x-python",
   "name": "python",
   "nbconvert_exporter": "python",
   "pygments_lexer": "ipython3",
   "version": "3.8.3"
  }
 },
 "nbformat": 4,
 "nbformat_minor": 4
}
