{
 "cells": [
  {
   "cell_type": "markdown",
   "metadata": {},
   "source": [
    "# Convert CSV to a graph"
   ]
  },
  {
   "cell_type": "code",
   "execution_count": 2,
   "metadata": {},
   "outputs": [],
   "source": [
    "import networkx as nx\n",
    "import pandas as pd"
   ]
  },
  {
   "cell_type": "code",
   "execution_count": 6,
   "metadata": {},
   "outputs": [
    {
     "data": {
      "text/html": [
       "<div>\n",
       "<style scoped>\n",
       "    .dataframe tbody tr th:only-of-type {\n",
       "        vertical-align: middle;\n",
       "    }\n",
       "\n",
       "    .dataframe tbody tr th {\n",
       "        vertical-align: top;\n",
       "    }\n",
       "\n",
       "    .dataframe thead th {\n",
       "        text-align: right;\n",
       "    }\n",
       "</style>\n",
       "<table border=\"1\" class=\"dataframe\">\n",
       "  <thead>\n",
       "    <tr style=\"text-align: right;\">\n",
       "      <th></th>\n",
       "      <th>Timestamp</th>\n",
       "      <th>What is your name/identifier?</th>\n",
       "      <th>Is a hot dog a sandwich?</th>\n",
       "      <th>What shape is the earth?</th>\n",
       "      <th>Is a Klein bottle with filling a ravioli?</th>\n",
       "      <th>Is it possible for one person to produce both a ghost and a zombie when they die?</th>\n",
       "      <th>Is spam good?</th>\n",
       "      <th>Should pineapple go on pizza?</th>\n",
       "    </tr>\n",
       "  </thead>\n",
       "  <tbody>\n",
       "    <tr>\n",
       "      <th>0</th>\n",
       "      <td>2020/12/02 3:05:20 PM EST</td>\n",
       "      <td>Ghost</td>\n",
       "      <td>No</td>\n",
       "      <td>Flat</td>\n",
       "      <td>No</td>\n",
       "      <td>No</td>\n",
       "      <td>Yes</td>\n",
       "      <td>Yes</td>\n",
       "    </tr>\n",
       "    <tr>\n",
       "      <th>1</th>\n",
       "      <td>2020/12/02 3:05:36 PM EST</td>\n",
       "      <td>Zombie</td>\n",
       "      <td>Yes</td>\n",
       "      <td>Flat</td>\n",
       "      <td>No</td>\n",
       "      <td>Yes</td>\n",
       "      <td>Yes</td>\n",
       "      <td>No</td>\n",
       "    </tr>\n",
       "    <tr>\n",
       "      <th>2</th>\n",
       "      <td>2020/12/02 3:05:57 PM EST</td>\n",
       "      <td>Turkey</td>\n",
       "      <td>No</td>\n",
       "      <td>Torrus</td>\n",
       "      <td>No</td>\n",
       "      <td>Yes</td>\n",
       "      <td>Yes</td>\n",
       "      <td>Yes</td>\n",
       "    </tr>\n",
       "  </tbody>\n",
       "</table>\n",
       "</div>"
      ],
      "text/plain": [
       "                   Timestamp What is your name/identifier?  \\\n",
       "0  2020/12/02 3:05:20 PM EST                         Ghost   \n",
       "1  2020/12/02 3:05:36 PM EST                        Zombie   \n",
       "2  2020/12/02 3:05:57 PM EST                        Turkey   \n",
       "\n",
       "  Is a hot dog a sandwich? What shape is the earth?  \\\n",
       "0                       No                     Flat   \n",
       "1                      Yes                     Flat   \n",
       "2                       No                   Torrus   \n",
       "\n",
       "  Is a Klein bottle with filling a ravioli?  \\\n",
       "0                                        No   \n",
       "1                                        No   \n",
       "2                                        No   \n",
       "\n",
       "  Is it possible for one person to produce both a ghost and a zombie when they die?  \\\n",
       "0                                                 No                                  \n",
       "1                                                Yes                                  \n",
       "2                                                Yes                                  \n",
       "\n",
       "  Is spam good? Should pineapple go on pizza?  \n",
       "0           Yes                           Yes  \n",
       "1           Yes                            No  \n",
       "2           Yes                           Yes  "
      ]
     },
     "execution_count": 6,
     "metadata": {},
     "output_type": "execute_result"
    }
   ],
   "source": [
    "def import_csv(filename):\n",
    "    return pd.read_csv(filename)\n",
    "\n",
    "\n",
    "\n",
    "data = import_csv(\"Survey.csv\")\n",
    "data.head(3) "
   ]
  },
  {
   "cell_type": "code",
   "execution_count": 7,
   "metadata": {},
   "outputs": [
    {
     "name": "stdout",
     "output_type": "stream",
     "text": [
      "0 Timestamp                                                                            2020/12/02 3:05:20 PM EST\n",
      "What is your name/identifier?                                                                            Ghost\n",
      "Is a hot dog a sandwich?                                                                                    No\n",
      "What shape is the earth?                                                                                  Flat\n",
      "Is a Klein bottle with filling a ravioli?                                                                   No\n",
      "Is it possible for one person to produce both a ghost and a zombie when they die?                           No\n",
      "Is spam good?                                                                                              Yes\n",
      "Should pineapple go on pizza?                                                                              Yes\n",
      "Name: 0, dtype: object\n",
      "1 Timestamp                                                                            2020/12/02 3:05:36 PM EST\n",
      "What is your name/identifier?                                                                           Zombie\n",
      "Is a hot dog a sandwich?                                                                                   Yes\n",
      "What shape is the earth?                                                                                  Flat\n",
      "Is a Klein bottle with filling a ravioli?                                                                   No\n",
      "Is it possible for one person to produce both a ghost and a zombie when they die?                          Yes\n",
      "Is spam good?                                                                                              Yes\n",
      "Should pineapple go on pizza?                                                                               No\n",
      "Name: 1, dtype: object\n",
      "2 Timestamp                                                                            2020/12/02 3:05:57 PM EST\n",
      "What is your name/identifier?                                                                           Turkey\n",
      "Is a hot dog a sandwich?                                                                                    No\n",
      "What shape is the earth?                                                                                Torrus\n",
      "Is a Klein bottle with filling a ravioli?                                                                   No\n",
      "Is it possible for one person to produce both a ghost and a zombie when they die?                          Yes\n",
      "Is spam good?                                                                                              Yes\n",
      "Should pineapple go on pizza?                                                                              Yes\n",
      "Name: 2, dtype: object\n",
      "3 Timestamp                                                                            2020/12/02 3:06:23 PM EST\n",
      "What is your name/identifier?                                                                      Santa Claus\n",
      "Is a hot dog a sandwich?                                                                                   Yes\n",
      "What shape is the earth?                                                                                  Flat\n",
      "Is a Klein bottle with filling a ravioli?                                                                   No\n",
      "Is it possible for one person to produce both a ghost and a zombie when they die?                           No\n",
      "Is spam good?                                                                                               No\n",
      "Should pineapple go on pizza?                                                                              Yes\n",
      "Name: 3, dtype: object\n",
      "4 Timestamp                                                                            2020/12/02 3:07:05 PM EST\n",
      "What is your name/identifier?                                                                              Cat\n",
      "Is a hot dog a sandwich?                                                                                   Yes\n",
      "What shape is the earth?                                                                                Torrus\n",
      "Is a Klein bottle with filling a ravioli?                                                                  Yes\n",
      "Is it possible for one person to produce both a ghost and a zombie when they die?                          Yes\n",
      "Is spam good?                                                                                              Yes\n",
      "Should pineapple go on pizza?                                                                              Yes\n",
      "Name: 4, dtype: object\n",
      "5 Timestamp                                                                            2020/12/02 3:07:31 PM EST\n",
      "What is your name/identifier?                                                                           Cactus\n",
      "Is a hot dog a sandwich?                                                                                    No\n",
      "What shape is the earth?                                                                                Torrus\n",
      "Is a Klein bottle with filling a ravioli?                                                                  Yes\n",
      "Is it possible for one person to produce both a ghost and a zombie when they die?                          Yes\n",
      "Is spam good?                                                                                               No\n",
      "Should pineapple go on pizza?                                                                               No\n",
      "Name: 5, dtype: object\n"
     ]
    }
   ],
   "source": [
    "for i, j in data.iterrows(): \n",
    "    print(i, j) "
   ]
  },
  {
   "cell_type": "code",
   "execution_count": null,
   "metadata": {},
   "outputs": [],
   "source": [
    "# DataFrame.items\n",
    "# Iterate over (column name, Series) pairs."
   ]
  }
 ],
 "metadata": {
  "kernelspec": {
   "display_name": "Python 3",
   "language": "python",
   "name": "python3"
  },
  "language_info": {
   "codemirror_mode": {
    "name": "ipython",
    "version": 3
   },
   "file_extension": ".py",
   "mimetype": "text/x-python",
   "name": "python",
   "nbconvert_exporter": "python",
   "pygments_lexer": "ipython3",
   "version": "3.8.3"
  }
 },
 "nbformat": 4,
 "nbformat_minor": 4
}
