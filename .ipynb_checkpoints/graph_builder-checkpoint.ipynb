{
 "cells": [
  {
   "cell_type": "markdown",
   "metadata": {},
   "source": [
    "# Convert CSV to a graph"
   ]
  },
  {
   "cell_type": "code",
   "execution_count": 2,
   "metadata": {},
   "outputs": [],
   "source": [
    "import networkx as nx\n",
    "import pandas as pd"
   ]
  },
  {
   "cell_type": "code",
   "execution_count": 3,
   "metadata": {},
   "outputs": [
    {
     "data": {
      "text/html": [
       "<div>\n",
       "<style scoped>\n",
       "    .dataframe tbody tr th:only-of-type {\n",
       "        vertical-align: middle;\n",
       "    }\n",
       "\n",
       "    .dataframe tbody tr th {\n",
       "        vertical-align: top;\n",
       "    }\n",
       "\n",
       "    .dataframe thead th {\n",
       "        text-align: right;\n",
       "    }\n",
       "</style>\n",
       "<table border=\"1\" class=\"dataframe\">\n",
       "  <thead>\n",
       "    <tr style=\"text-align: right;\">\n",
       "      <th></th>\n",
       "      <th>Is a hot dog a sandwich?</th>\n",
       "      <th>Is a Klein bottle with filling a ravioli?</th>\n",
       "      <th>Is it possible for one person to produce both a ghost and a zombie when they die?</th>\n",
       "      <th>Is spam good?</th>\n",
       "      <th>Should pineapple go on pizza?</th>\n",
       "    </tr>\n",
       "  </thead>\n",
       "  <tbody>\n",
       "    <tr>\n",
       "      <th>Ghost</th>\n",
       "      <td>No</td>\n",
       "      <td>No</td>\n",
       "      <td>No</td>\n",
       "      <td>Yes</td>\n",
       "      <td>Yes</td>\n",
       "    </tr>\n",
       "    <tr>\n",
       "      <th>Zombie</th>\n",
       "      <td>Yes</td>\n",
       "      <td>No</td>\n",
       "      <td>Yes</td>\n",
       "      <td>Yes</td>\n",
       "      <td>No</td>\n",
       "    </tr>\n",
       "    <tr>\n",
       "      <th>Turkey</th>\n",
       "      <td>No</td>\n",
       "      <td>No</td>\n",
       "      <td>Yes</td>\n",
       "      <td>Yes</td>\n",
       "      <td>Yes</td>\n",
       "    </tr>\n",
       "  </tbody>\n",
       "</table>\n",
       "</div>"
      ],
      "text/plain": [
       "       Is a hot dog a sandwich? Is a Klein bottle with filling a ravioli?  \\\n",
       "Ghost                        No                                        No   \n",
       "Zombie                      Yes                                        No   \n",
       "Turkey                       No                                        No   \n",
       "\n",
       "       Is it possible for one person to produce both a ghost and a zombie when they die?  \\\n",
       "Ghost                                                  No                                  \n",
       "Zombie                                                Yes                                  \n",
       "Turkey                                                Yes                                  \n",
       "\n",
       "       Is spam good? Should pineapple go on pizza?  \n",
       "Ghost            Yes                           Yes  \n",
       "Zombie           Yes                            No  \n",
       "Turkey           Yes                           Yes  "
      ]
     },
     "execution_count": 3,
     "metadata": {},
     "output_type": "execute_result"
    }
   ],
   "source": [
    "def import_csv(filename):\n",
    "    return pd.read_csv(filename)\n",
    "\n",
    "\n",
    "data = import_csv(\"Survey.csv\")\n",
    "del data['Timestamp'] #delete timestamp column\n",
    "data = data.set_index('Name') # set names column to row labels\n",
    "data.index.names = [None] \n",
    "data.head(3)"
   ]
  },
  {
   "cell_type": "code",
   "execution_count": 21,
   "metadata": {},
   "outputs": [
    {
     "name": "stdout",
     "output_type": "stream",
     "text": [
      "Ghost           No\n",
      "Zombie         Yes\n",
      "Turkey          No\n",
      "Santa Claus    Yes\n",
      "Cat            Yes\n",
      "Cactus          No\n",
      "Name: Is a hot dog a sandwich?, dtype: object\n",
      "Ghost           No\n",
      "Zombie          No\n",
      "Turkey          No\n",
      "Santa Claus     No\n",
      "Cat            Yes\n",
      "Cactus         Yes\n",
      "Name: Is a Klein bottle with filling a ravioli?, dtype: object\n",
      "Ghost           No\n",
      "Zombie         Yes\n",
      "Turkey         Yes\n",
      "Santa Claus     No\n",
      "Cat            Yes\n",
      "Cactus         Yes\n",
      "Name: Is it possible for one person to produce both a ghost and a zombie when they die?, dtype: object\n",
      "Ghost          Yes\n",
      "Zombie         Yes\n",
      "Turkey         Yes\n",
      "Santa Claus     No\n",
      "Cat            Yes\n",
      "Cactus          No\n",
      "Name: Is spam good?, dtype: object\n",
      "Ghost          Yes\n",
      "Zombie          No\n",
      "Turkey         Yes\n",
      "Santa Claus    Yes\n",
      "Cat            Yes\n",
      "Cactus          No\n",
      "Name: Should pineapple go on pizza?, dtype: object\n"
     ]
    }
   ],
   "source": [
    "for q, a in data.iteritems():  # for column\n",
    "    print(a)"
   ]
  },
  {
   "cell_type": "code",
   "execution_count": 16,
   "metadata": {},
   "outputs": [
    {
     "data": {
      "text/plain": [
       "'No'"
      ]
     },
     "execution_count": 16,
     "metadata": {},
     "output_type": "execute_result"
    }
   ],
   "source": [
    "data.loc[\"Ghost\", \"Is a hot dog a sandwich?\"]"
   ]
  },
  {
   "cell_type": "code",
   "execution_count": 8,
   "metadata": {},
   "outputs": [
    {
     "name": "stdout",
     "output_type": "stream",
     "text": [
      "Colunm Name :  Is a hot dog a sandwich?\n",
      "Column Contents :  ['No' 'Yes' 'No' 'Yes' 'Yes' 'No']\n",
      "Colunm Name :  Is a Klein bottle with filling a ravioli?\n",
      "Column Contents :  ['No' 'No' 'No' 'No' 'Yes' 'Yes']\n",
      "Colunm Name :  Is it possible for one person to produce both a ghost and a zombie when they die?\n",
      "Column Contents :  ['No' 'Yes' 'Yes' 'No' 'Yes' 'Yes']\n",
      "Colunm Name :  Is spam good?\n",
      "Column Contents :  ['Yes' 'Yes' 'Yes' 'No' 'Yes' 'No']\n",
      "Colunm Name :  Should pineapple go on pizza?\n",
      "Column Contents :  ['Yes' 'No' 'Yes' 'Yes' 'Yes' 'No']\n"
     ]
    }
   ],
   "source": [
    "for (columnName, columnData) in data.iteritems(): \n",
    "    print('Colunm Name : ', columnName) \n",
    "    print('Column Contents : ', columnData.values) "
   ]
  },
  {
   "cell_type": "code",
   "execution_count": 9,
   "metadata": {},
   "outputs": [
    {
     "name": "stdout",
     "output_type": "stream",
     "text": [
      "Colunm Name :  Is a hot dog a sandwich?\n",
      "Colunm Name :  Is a Klein bottle with filling a ravioli?\n",
      "Colunm Name :  Is it possible for one person to produce both a ghost and a zombie when they die?\n",
      "Colunm Name :  Is spam good?\n",
      "Colunm Name :  Should pineapple go on pizza?\n"
     ]
    }
   ],
   "source": [
    "for (a, b) in data.iteritems(): \n",
    "    print('Colunm Name : ', a) "
   ]
  },
  {
   "cell_type": "code",
   "execution_count": 11,
   "metadata": {},
   "outputs": [
    {
     "name": "stdout",
     "output_type": "stream",
     "text": [
      "Row Name :  Ghost\n",
      "Row Name :  Zombie\n",
      "Row Name :  Turkey\n",
      "Row Name :  Santa Claus\n",
      "Row Name :  Cat\n",
      "Row Name :  Cactus\n"
     ]
    }
   ],
   "source": [
    "for (a, b) in data.iterrows(): \n",
    "    print('Row Name : ', a)"
   ]
  },
  {
   "cell_type": "code",
   "execution_count": 15,
   "metadata": {},
   "outputs": [
    {
     "data": {
      "text/plain": [
       "6"
      ]
     },
     "execution_count": 15,
     "metadata": {},
     "output_type": "execute_result"
    }
   ],
   "source": [
    "num_rows = data.shape[0] \n",
    "num_cols = data.shape[1] \n",
    "num_rows"
   ]
  },
  {
   "cell_type": "code",
   "execution_count": 93,
   "metadata": {},
   "outputs": [
    {
     "name": "stdout",
     "output_type": "stream",
     "text": [
      "['Ghost', 'Zombie', 'Turkey', 'Santa Claus', 'Cat', 'Cactus']\n"
     ]
    }
   ],
   "source": [
    "G = nx.Graph()\n",
    "row_names = []\n",
    "for (name, b) in data.iterrows(): \n",
    "    row_names.append(name)\n",
    "    G.add_node(name)\n",
    "print(G.nodes)\n",
    "# G.add_edge(\"Ghost\", \"Turkey\")\n",
    "# print(G.edges)"
   ]
  },
  {
   "cell_type": "code",
   "execution_count": 94,
   "metadata": {},
   "outputs": [
    {
     "data": {
      "text/plain": [
       "['Ghost', 'Zombie', 'Turkey', 'Santa Claus', 'Cat', 'Cactus']"
      ]
     },
     "execution_count": 94,
     "metadata": {},
     "output_type": "execute_result"
    }
   ],
   "source": [
    "row_names"
   ]
  },
  {
   "cell_type": "code",
   "execution_count": 82,
   "metadata": {},
   "outputs": [
    {
     "name": "stdout",
     "output_type": "stream",
     "text": [
      "Ghost\n",
      "No\n",
      "Zombie\n",
      "Yes\n",
      "Turkey\n",
      "No\n",
      "Santa Claus\n",
      "Yes\n",
      "Cat\n",
      "Yes\n",
      "Cactus\n",
      "No\n",
      "Ghost\n",
      "No\n",
      "Zombie\n",
      "No\n",
      "Turkey\n",
      "No\n",
      "Santa Claus\n",
      "No\n",
      "Cat\n",
      "Yes\n",
      "Cactus\n",
      "Yes\n",
      "Ghost\n",
      "No\n",
      "Zombie\n",
      "Yes\n",
      "Turkey\n",
      "Yes\n",
      "Santa Claus\n",
      "No\n",
      "Cat\n",
      "Yes\n",
      "Cactus\n",
      "Yes\n",
      "Ghost\n",
      "Yes\n",
      "Zombie\n",
      "Yes\n",
      "Turkey\n",
      "Yes\n",
      "Santa Claus\n",
      "No\n",
      "Cat\n",
      "Yes\n",
      "Cactus\n",
      "No\n",
      "Ghost\n",
      "Yes\n",
      "Zombie\n",
      "No\n",
      "Turkey\n",
      "Yes\n",
      "Santa Claus\n",
      "Yes\n",
      "Cat\n",
      "Yes\n",
      "Cactus\n",
      "No\n",
      "[]\n"
     ]
    }
   ],
   "source": [
    "for q, answers in data.iteritems(): # for question in data, q is question, a is all answers\n",
    "    for name in row_names:\n",
    "        for name in row_names:\n",
    "            \n",
    "# make a list of the row names\n",
    "# iterate through that list\n",
    "# answers[\"Zombie\"] -> 'No'\n",
    "print(G.edges)"
   ]
  },
  {
   "cell_type": "code",
   "execution_count": 79,
   "metadata": {},
   "outputs": [
    {
     "data": {
      "text/plain": [
       "'No'"
      ]
     },
     "execution_count": 79,
     "metadata": {},
     "output_type": "execute_result"
    }
   ],
   "source": [
    "answers[\"Zombie\"]"
   ]
  },
  {
   "cell_type": "code",
   "execution_count": 39,
   "metadata": {},
   "outputs": [
    {
     "name": "stdout",
     "output_type": "stream",
     "text": [
      "\n"
     ]
    }
   ],
   "source": [
    "for q, answers in data.iteritems(): # for question in data, q is question, a is all answers\n",
    "    for a in answers:\n",
    "        curr_answ = a # a is a single answer\n",
    "        # for row (curr:last):\n",
    "            # if curr person answer == answer\n",
    "    #         G.add_edge(a, b) # add an edge\n",
    "            \n",
    "\n",
    "print(G.edges)"
   ]
  },
  {
   "cell_type": "code",
   "execution_count": 32,
   "metadata": {},
   "outputs": [
    {
     "data": {
      "text/plain": [
       "'Yes'"
      ]
     },
     "execution_count": 32,
     "metadata": {},
     "output_type": "execute_result"
    }
   ],
   "source": [
    "a"
   ]
  }
 ],
 "metadata": {
  "kernelspec": {
   "display_name": "Python 3",
   "language": "python",
   "name": "python3"
  },
  "language_info": {
   "codemirror_mode": {
    "name": "ipython",
    "version": 3
   },
   "file_extension": ".py",
   "mimetype": "text/x-python",
   "name": "python",
   "nbconvert_exporter": "python",
   "pygments_lexer": "ipython3",
   "version": "3.8.3"
  }
 },
 "nbformat": 4,
 "nbformat_minor": 4
}
